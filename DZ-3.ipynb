{
  "nbformat": 4,
  "nbformat_minor": 0,
  "metadata": {
    "colab": {
      "provenance": [],
      "authorship_tag": "ABX9TyPlfgZp75g/9j4S1dm5GTeY",
      "include_colab_link": true
    },
    "kernelspec": {
      "name": "python3",
      "display_name": "Python 3"
    },
    "language_info": {
      "name": "python"
    }
  },
  "cells": [
    {
      "cell_type": "markdown",
      "metadata": {
        "id": "view-in-github",
        "colab_type": "text"
      },
      "source": [
        "<a href=\"https://colab.research.google.com/github/WanyaKruk/DZ-3/blob/main/DZ-3.ipynb\" target=\"_parent\"><img src=\"https://colab.research.google.com/assets/colab-badge.svg\" alt=\"Open In Colab\"/></a>"
      ]
    },
    {
      "cell_type": "code",
      "source": [
        "!pip install catboost\n",
        "!pip install scikit-learn"
      ],
      "metadata": {
        "colab": {
          "base_uri": "https://localhost:8080/"
        },
        "id": "VrpJP2uv2XFW",
        "outputId": "6f824233-e932-41b6-f654-0801307c027a"
      },
      "execution_count": 29,
      "outputs": [
        {
          "output_type": "stream",
          "name": "stdout",
          "text": [
            "Requirement already satisfied: catboost in /usr/local/lib/python3.10/dist-packages (1.2.7)\n",
            "Requirement already satisfied: graphviz in /usr/local/lib/python3.10/dist-packages (from catboost) (0.20.3)\n",
            "Requirement already satisfied: matplotlib in /usr/local/lib/python3.10/dist-packages (from catboost) (3.7.1)\n",
            "Requirement already satisfied: numpy<2.0,>=1.16.0 in /usr/local/lib/python3.10/dist-packages (from catboost) (1.26.4)\n",
            "Requirement already satisfied: pandas>=0.24 in /usr/local/lib/python3.10/dist-packages (from catboost) (2.1.4)\n",
            "Requirement already satisfied: scipy in /usr/local/lib/python3.10/dist-packages (from catboost) (1.13.1)\n",
            "Requirement already satisfied: plotly in /usr/local/lib/python3.10/dist-packages (from catboost) (5.24.1)\n",
            "Requirement already satisfied: six in /usr/local/lib/python3.10/dist-packages (from catboost) (1.16.0)\n",
            "Requirement already satisfied: python-dateutil>=2.8.2 in /usr/local/lib/python3.10/dist-packages (from pandas>=0.24->catboost) (2.8.2)\n",
            "Requirement already satisfied: pytz>=2020.1 in /usr/local/lib/python3.10/dist-packages (from pandas>=0.24->catboost) (2024.2)\n",
            "Requirement already satisfied: tzdata>=2022.1 in /usr/local/lib/python3.10/dist-packages (from pandas>=0.24->catboost) (2024.1)\n",
            "Requirement already satisfied: contourpy>=1.0.1 in /usr/local/lib/python3.10/dist-packages (from matplotlib->catboost) (1.3.0)\n",
            "Requirement already satisfied: cycler>=0.10 in /usr/local/lib/python3.10/dist-packages (from matplotlib->catboost) (0.12.1)\n",
            "Requirement already satisfied: fonttools>=4.22.0 in /usr/local/lib/python3.10/dist-packages (from matplotlib->catboost) (4.53.1)\n",
            "Requirement already satisfied: kiwisolver>=1.0.1 in /usr/local/lib/python3.10/dist-packages (from matplotlib->catboost) (1.4.7)\n",
            "Requirement already satisfied: packaging>=20.0 in /usr/local/lib/python3.10/dist-packages (from matplotlib->catboost) (24.1)\n",
            "Requirement already satisfied: pillow>=6.2.0 in /usr/local/lib/python3.10/dist-packages (from matplotlib->catboost) (10.4.0)\n",
            "Requirement already satisfied: pyparsing>=2.3.1 in /usr/local/lib/python3.10/dist-packages (from matplotlib->catboost) (3.1.4)\n",
            "Requirement already satisfied: tenacity>=6.2.0 in /usr/local/lib/python3.10/dist-packages (from plotly->catboost) (9.0.0)\n",
            "Requirement already satisfied: scikit-learn in /usr/local/lib/python3.10/dist-packages (1.5.2)\n",
            "Requirement already satisfied: numpy>=1.19.5 in /usr/local/lib/python3.10/dist-packages (from scikit-learn) (1.26.4)\n",
            "Requirement already satisfied: scipy>=1.6.0 in /usr/local/lib/python3.10/dist-packages (from scikit-learn) (1.13.1)\n",
            "Requirement already satisfied: joblib>=1.2.0 in /usr/local/lib/python3.10/dist-packages (from scikit-learn) (1.4.2)\n",
            "Requirement already satisfied: threadpoolctl>=3.1.0 in /usr/local/lib/python3.10/dist-packages (from scikit-learn) (3.5.0)\n"
          ]
        }
      ]
    },
    {
      "cell_type": "code",
      "execution_count": 28,
      "metadata": {
        "colab": {
          "base_uri": "https://localhost:8080/"
        },
        "id": "0c_sA6nj02Lh",
        "outputId": "e56ae522-9c07-4041-a44a-5537a814c243"
      },
      "outputs": [
        {
          "output_type": "stream",
          "name": "stdout",
          "text": [
            "0:\tlearn: 0.6437560\ttotal: 1.12s\tremaining: 1m 6s\n",
            "1:\tlearn: 0.5992329\ttotal: 2.21s\tremaining: 1m 4s\n",
            "2:\tlearn: 0.5604083\ttotal: 3.42s\tremaining: 1m 4s\n",
            "3:\tlearn: 0.5237886\ttotal: 4.15s\tremaining: 58.1s\n",
            "4:\tlearn: 0.4993031\ttotal: 4.85s\tremaining: 53.3s\n",
            "5:\tlearn: 0.4754656\ttotal: 5.53s\tremaining: 49.8s\n",
            "6:\tlearn: 0.4490663\ttotal: 6.22s\tremaining: 47.1s\n",
            "7:\tlearn: 0.4290937\ttotal: 6.9s\tremaining: 44.9s\n",
            "8:\tlearn: 0.4042371\ttotal: 7.6s\tremaining: 43.1s\n",
            "9:\tlearn: 0.3857966\ttotal: 8.29s\tremaining: 41.5s\n",
            "10:\tlearn: 0.3705410\ttotal: 8.98s\tremaining: 40s\n",
            "11:\tlearn: 0.3549219\ttotal: 9.68s\tremaining: 38.7s\n",
            "12:\tlearn: 0.3408147\ttotal: 10.4s\tremaining: 37.5s\n",
            "13:\tlearn: 0.3259793\ttotal: 11.1s\tremaining: 36.3s\n",
            "14:\tlearn: 0.3081612\ttotal: 11.7s\tremaining: 35.2s\n",
            "15:\tlearn: 0.2957012\ttotal: 12.4s\tremaining: 34.2s\n",
            "16:\tlearn: 0.2842113\ttotal: 13.1s\tremaining: 33.1s\n",
            "17:\tlearn: 0.2731042\ttotal: 13.9s\tremaining: 32.5s\n",
            "18:\tlearn: 0.2613609\ttotal: 15s\tremaining: 32.3s\n",
            "19:\tlearn: 0.2529668\ttotal: 16.1s\tremaining: 32.2s\n",
            "20:\tlearn: 0.2419613\ttotal: 17.3s\tremaining: 32.2s\n",
            "21:\tlearn: 0.2332563\ttotal: 18.1s\tremaining: 31.3s\n",
            "22:\tlearn: 0.2261841\ttotal: 18.8s\tremaining: 30.2s\n",
            "23:\tlearn: 0.2190402\ttotal: 19.5s\tremaining: 29.3s\n",
            "24:\tlearn: 0.2126319\ttotal: 20.3s\tremaining: 28.4s\n",
            "25:\tlearn: 0.2037523\ttotal: 21.3s\tremaining: 27.9s\n",
            "26:\tlearn: 0.1973681\ttotal: 22.3s\tremaining: 27.3s\n",
            "27:\tlearn: 0.1911236\ttotal: 23.4s\tremaining: 26.8s\n",
            "28:\tlearn: 0.1850063\ttotal: 24.7s\tremaining: 26.5s\n",
            "29:\tlearn: 0.1799879\ttotal: 25.8s\tremaining: 25.8s\n",
            "30:\tlearn: 0.1744169\ttotal: 26.7s\tremaining: 25s\n",
            "31:\tlearn: 0.1698645\ttotal: 27.7s\tremaining: 24.3s\n",
            "32:\tlearn: 0.1655502\ttotal: 29.1s\tremaining: 23.8s\n",
            "33:\tlearn: 0.1607362\ttotal: 30.2s\tremaining: 23.1s\n",
            "34:\tlearn: 0.1574282\ttotal: 31.4s\tremaining: 22.4s\n",
            "35:\tlearn: 0.1539711\ttotal: 32.1s\tremaining: 21.4s\n",
            "36:\tlearn: 0.1507258\ttotal: 32.8s\tremaining: 20.4s\n",
            "37:\tlearn: 0.1469456\ttotal: 33.5s\tremaining: 19.4s\n",
            "38:\tlearn: 0.1437821\ttotal: 34.2s\tremaining: 18.4s\n",
            "39:\tlearn: 0.1390179\ttotal: 34.8s\tremaining: 17.4s\n",
            "40:\tlearn: 0.1355382\ttotal: 35.5s\tremaining: 16.5s\n",
            "41:\tlearn: 0.1322748\ttotal: 36.2s\tremaining: 15.5s\n",
            "42:\tlearn: 0.1284714\ttotal: 36.9s\tremaining: 14.6s\n",
            "43:\tlearn: 0.1261179\ttotal: 37.6s\tremaining: 13.7s\n",
            "44:\tlearn: 0.1234325\ttotal: 38.3s\tremaining: 12.8s\n",
            "45:\tlearn: 0.1206111\ttotal: 39s\tremaining: 11.9s\n",
            "46:\tlearn: 0.1173075\ttotal: 39.7s\tremaining: 11s\n",
            "47:\tlearn: 0.1143987\ttotal: 40.4s\tremaining: 10.1s\n",
            "48:\tlearn: 0.1123078\ttotal: 41s\tremaining: 9.21s\n",
            "49:\tlearn: 0.1101576\ttotal: 41.9s\tremaining: 8.37s\n",
            "50:\tlearn: 0.1075250\ttotal: 43s\tremaining: 7.58s\n",
            "51:\tlearn: 0.1053668\ttotal: 44s\tremaining: 6.77s\n",
            "52:\tlearn: 0.1032073\ttotal: 45.2s\tremaining: 5.97s\n",
            "53:\tlearn: 0.1015752\ttotal: 46.2s\tremaining: 5.13s\n",
            "54:\tlearn: 0.0995154\ttotal: 46.9s\tremaining: 4.26s\n",
            "55:\tlearn: 0.0978594\ttotal: 47.6s\tremaining: 3.4s\n",
            "56:\tlearn: 0.0962055\ttotal: 48.3s\tremaining: 2.54s\n",
            "57:\tlearn: 0.0943107\ttotal: 48.9s\tremaining: 1.69s\n",
            "58:\tlearn: 0.0922043\ttotal: 49.6s\tremaining: 841ms\n",
            "59:\tlearn: 0.0900914\ttotal: 50.3s\tremaining: 0us\n",
            "Accuracy: 0.98\n",
            "Classification Report:\n",
            "              precision    recall  f1-score   support\n",
            "\n",
            "   malignant       0.98      0.95      0.97        63\n",
            "      benign       0.97      0.99      0.98       108\n",
            "\n",
            "    accuracy                           0.98       171\n",
            "   macro avg       0.98      0.97      0.97       171\n",
            "weighted avg       0.98      0.98      0.98       171\n",
            "\n",
            "Mean Squared Error: 0.023391812865497075\n"
          ]
        }
      ],
      "source": [
        "\n",
        "from sklearn.ensemble import GradientBoostingClassifier\n",
        "from catboost import CatBoostClassifier\n",
        "from sklearn.datasets import load_breast_cancer\n",
        "from sklearn.model_selection import train_test_split\n",
        "from sklearn.metrics import classification_report, accuracy_score\n",
        "from sklearn.metrics import mean_squared_error\n",
        "\n",
        "# Загрузка данных\n",
        "data = load_breast_cancer()\n",
        "X = data.data\n",
        "y = data.target\n",
        "\n",
        "# Разделение данных на обучающий и тестовый наборы\n",
        "X_train, X_test, y_train, y_test = train_test_split(X, y, test_size=0.3, random_state=42)\n",
        "\n",
        "# Создание модели CatBoostClassifier\n",
        "clf = CatBoostClassifier(iterations=60, depth=12, learning_rate=0.1, loss_function='MultiClass', random_state=42)\n",
        "\n",
        "# Обучение модели на обучающем наборе данных\n",
        "clf.fit(X_train, y_train)\n",
        "\n",
        "# Предсказание классов на тестовом наборе данных\n",
        "y_pred = clf.predict(X_test)\n",
        "\n",
        "# Отчеты о классификации\n",
        "accuracy = accuracy_score(y_test, y_pred)\n",
        "report = classification_report(y_test, y_pred, target_names=data.target_names)\n",
        "mse = mean_squared_error(y_test, y_pred)\n",
        "\n",
        "# Вывод отчета\n",
        "print(f'Accuracy: {accuracy:.2f}')\n",
        "print(\"Classification Report:\")\n",
        "print(report)\n",
        "print(f'Mean Squared Error: {mse}')"
      ]
    },
    {
      "cell_type": "code",
      "source": [
        "from sklearn.ensemble import GradientBoostingClassifier\n",
        "from sklearn.datasets import load_breast_cancer\n",
        "from sklearn.model_selection import train_test_split\n",
        "from sklearn.metrics import classification_report\n",
        "from sklearn.metrics import roc_auc_score, roc_curve\n",
        "\n",
        "\n",
        "# Создание модели Gradient Boosting Classifier\n",
        "gb_classifier = GradientBoostingClassifier(n_estimators=100, max_depth=3, learning_rate=0.1, random_state=42)\n",
        "\n",
        "# Обучение модели на обучающем наборе данных\n",
        "gb_classifier.fit(X_train, y_train)\n",
        "\n",
        "# Предсказание классов на тестовом наборе данных\n",
        "y_pred = gb_classifier.predict(X_test)\n",
        "\n",
        "# Вывод отчетов\n",
        "\n",
        "report = classification_report(y_test, y_pred)\n",
        "auc = roc_auc_score(y_test, y_pred)\n",
        "print(f'Accuracy: {accuracy:.2f}')\n",
        "print(report)\n",
        "print(f'ROC-AUC: {auc}')\n"
      ],
      "metadata": {
        "colab": {
          "base_uri": "https://localhost:8080/"
        },
        "id": "XNAyMZL73KrM",
        "outputId": "6fcb44d3-bb1e-4601-cca2-c7ca267bcd7d"
      },
      "execution_count": 30,
      "outputs": [
        {
          "output_type": "stream",
          "name": "stdout",
          "text": [
            "Accuracy: 0.98\n",
            "              precision    recall  f1-score   support\n",
            "\n",
            "           0       0.95      0.94      0.94        63\n",
            "           1       0.96      0.97      0.97       108\n",
            "\n",
            "    accuracy                           0.96       171\n",
            "   macro avg       0.96      0.95      0.96       171\n",
            "weighted avg       0.96      0.96      0.96       171\n",
            "\n",
            "ROC-AUC: 0.9543650793650794\n"
          ]
        }
      ]
    }
  ]
}